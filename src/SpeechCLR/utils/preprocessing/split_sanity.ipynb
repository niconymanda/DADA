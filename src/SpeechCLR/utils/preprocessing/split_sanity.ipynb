{
 "cells": [
  {
   "cell_type": "code",
   "execution_count": 3,
   "metadata": {},
   "outputs": [
    {
     "name": "stdout",
     "output_type": "stream",
     "text": [
      "/home/infres/amathur-23/DADA/src/SpeechCLR\n"
     ]
    }
   ],
   "source": [
    "%cd /home/infres/amathur-23/DADA/src/SpeechCLR"
   ]
  },
  {
   "cell_type": "code",
   "execution_count": 4,
   "metadata": {},
   "outputs": [],
   "source": [
    "import yaml\n",
    "from utils.datasets import InTheWildDataset\n",
    "from torch.utils.data import DataLoader\n",
    "\n",
    "\n",
    "train_dataset = InTheWildDataset(\n",
    "    root_dir=\"/home/infres/amathur-23/DADA/datasets/InTheWild\",\n",
    "    metadata_file=\"meta.csv\",\n",
    "    include_spoofs=False,\n",
    "    bonafide_label=\"bona-fide\",\n",
    "    filename_col=\"file\",\n",
    "    sampling_rate=16000,\n",
    "    max_duration=4,\n",
    "    split=\"train\",\n",
    "    config=\"configs/data/inthewild_toy.yaml\",\n",
    "    mode=\"triplet\",\n",
    ")\n",
    "\n",
    "train_loader = DataLoader(train_dataset, batch_size=4, shuffle=True)"
   ]
  },
  {
   "cell_type": "code",
   "execution_count": 5,
   "metadata": {},
   "outputs": [
    {
     "data": {
      "text/plain": [
       "<torch.utils.data.dataloader.DataLoader at 0x79a7981a7b00>"
      ]
     },
     "execution_count": 5,
     "metadata": {},
     "output_type": "execute_result"
    }
   ],
   "source": [
    "train_loader"
   ]
  },
  {
   "cell_type": "code",
   "execution_count": 6,
   "metadata": {},
   "outputs": [
    {
     "data": {
      "text/plain": [
       "10100"
      ]
     },
     "execution_count": 6,
     "metadata": {},
     "output_type": "execute_result"
    }
   ],
   "source": [
    "len(train_loader) * 4"
   ]
  }
 ],
 "metadata": {
  "kernelspec": {
   "display_name": "dada",
   "language": "python",
   "name": "python3"
  },
  "language_info": {
   "codemirror_mode": {
    "name": "ipython",
    "version": 3
   },
   "file_extension": ".py",
   "mimetype": "text/x-python",
   "name": "python",
   "nbconvert_exporter": "python",
   "pygments_lexer": "ipython3",
   "version": "3.12.3"
  }
 },
 "nbformat": 4,
 "nbformat_minor": 2
}
