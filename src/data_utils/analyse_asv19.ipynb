{
 "cells": [
  {
   "cell_type": "code",
   "execution_count": null,
   "metadata": {},
   "outputs": [],
   "source": [
    "import warnings\n",
    "import numpy as np\n",
    "\n",
    "warnings.simplefilter(\"ignore\", category=FutureWarning)\n",
    "\n",
    "import torch\n",
    "import glob\n",
    "from transformers import pipeline\n",
    "import os\n",
    "\n",
    "os.environ[\"HF_HOME\"] = \"/data/amathur-23/DADA\"\n",
    "\n",
    "whisper = pipeline(\"automatic-speech-recognition\", \"openai/whisper-large-v3\", torch_dtype=torch.float16, device=\"cuda:2\")\n",
    "\n",
    "\n",
    "def get_spoof_list19(meta_file):\n",
    "    d_meta = {}\n",
    "    file_list = []\n",
    "    with open(meta_file, \"r\") as f:\n",
    "        l_meta = f.readlines()\n",
    "\n",
    "    for line in l_meta:\n",
    "        _, key, _, _, label = line.strip().split(\" \")\n",
    "        file_list.append(key)\n",
    "        d_meta[key] = 1 if label == \"bonafide\" else 0\n",
    "    return d_meta\n",
    "\n",
    "# %%\n",
    "from tqdm import tqdm\n",
    "import pandas as pd\n",
    "\n",
    "\n",
    "batch_size = 32\n",
    "\n",
    "TRAIN_SAMPLES = 10000\n",
    "VAL_SAMPLES = 5000\n",
    "\n",
    "\n",
    "train_dict = get_spoof_list19(\"/data/amathur-23/DADA/ASVspoof2019/LA/ASVspoof2019_LA_cm_protocols/ASVspoof2019.LA.cm.train.trn.txt\")\n",
    "val_dict = get_spoof_list19(\"/data/amathur-23/DADA/ASVspoof2019/LA/ASVspoof2019_LA_cm_protocols/ASVspoof2019.LA.cm.eval.trl.txt\")\n"
   ]
  },
  {
   "cell_type": "code",
   "execution_count": null,
   "metadata": {},
   "outputs": [],
   "source": [
    "len(train_dict), len(val_dict)  "
   ]
  },
  {
   "cell_type": "code",
   "execution_count": null,
   "metadata": {},
   "outputs": [],
   "source": [
    "train_dict['LA_T_1000137']"
   ]
  }
 ],
 "metadata": {
  "kernelspec": {
   "display_name": "dada",
   "language": "python",
   "name": "python3"
  },
  "language_info": {
   "codemirror_mode": {
    "name": "ipython",
    "version": 3
   },
   "file_extension": ".py",
   "mimetype": "text/x-python",
   "name": "python",
   "nbconvert_exporter": "python",
   "pygments_lexer": "ipython3",
   "version": "3.12.3"
  }
 },
 "nbformat": 4,
 "nbformat_minor": 2
}
