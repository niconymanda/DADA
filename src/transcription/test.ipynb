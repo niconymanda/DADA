{
 "cells": [
  {
   "cell_type": "code",
   "execution_count": 15,
   "metadata": {},
   "outputs": [],
   "source": [
    "import os\n",
    "os.environ['HF_HOME'] = '/data/iivanova-23/cache/'\n",
    "os.environ[\"CUDA_VISIBLE_DEVICES\"]='1'"
   ]
  },
  {
   "cell_type": "code",
   "execution_count": 6,
   "metadata": {},
   "outputs": [],
   "source": [
    "#text,author_name,tokens,label,length,type,index\n",
    "import pandas as pd\n",
    "csv_file = pd.read_csv('/home/infres/iivanova-23/DADA/iivanova-23/data/asvspoof2021/transcriptions_gpu.csv')\n",
    "print(len(csv_file[csv_file['type']=='spoof']))\n",
    "print(len(csv_file[csv_file['type']!='spoof']))\n",
    "spoof_small = csv_file[csv_file['type']=='spoof'].sample(3000)\n",
    "bonafide_small = csv_file[csv_file['type']!='spoof']\n",
    "data = pd.concat([spoof_small, bonafide_small])\n"
   ]
  },
  {
   "cell_type": "code",
   "execution_count": null,
   "metadata": {},
   "outputs": [],
   "source": []
  }
 ],
 "metadata": {
  "kernelspec": {
   "display_name": "dadaEnv",
   "language": "python",
   "name": "python3"
  },
  "language_info": {
   "codemirror_mode": {
    "name": "ipython",
    "version": 3
   },
   "file_extension": ".py",
   "mimetype": "text/x-python",
   "name": "python",
   "nbconvert_exporter": "python",
   "pygments_lexer": "ipython3",
   "version": "3.12.3"
  }
 },
 "nbformat": 4,
 "nbformat_minor": 2
}
